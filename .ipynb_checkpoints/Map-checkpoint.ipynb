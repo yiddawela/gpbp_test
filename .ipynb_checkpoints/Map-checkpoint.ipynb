{
 "cells": [
  {
   "cell_type": "markdown",
   "id": "f2d7ecd7",
   "metadata": {},
   "source": [
    "[![Open in Colab](https://colab.research.google.com/assets/colab-badge.svg)](https://colab.research.google.com/github/yiddawela/gpbp_test/blob/main/Map.ipynb)"
   ]
  },
  {
   "cell_type": "markdown",
   "id": "64b0908b-7292-45a1-871c-5588497f4569",
   "metadata": {},
   "source": [
    "Instructions on how to synchronise a Jupyter Notebook on Sagemaker with GitHub:\n",
    "\n",
    "https://stackoverflow.com/questions/57157608/how-to-connect-private-github-repo-in-sagemaker"
   ]
  },
  {
   "cell_type": "code",
   "execution_count": 2,
   "id": "127ce5ec",
   "metadata": {},
   "outputs": [
    {
     "name": "stdout",
     "output_type": "stream",
     "text": [
      "Looking in indexes: https://pypi.org/simple, https://pip.repos.neuron.amazonaws.com\n",
      "Requirement already satisfied: folium in /home/ec2-user/anaconda3/envs/python3/lib/python3.10/site-packages (0.14.0)\n",
      "Requirement already satisfied: branca>=0.6.0 in /home/ec2-user/anaconda3/envs/python3/lib/python3.10/site-packages (from folium) (0.6.0)\n",
      "Requirement already satisfied: requests in /home/ec2-user/anaconda3/envs/python3/lib/python3.10/site-packages (from folium) (2.28.1)\n",
      "Requirement already satisfied: numpy in /home/ec2-user/anaconda3/envs/python3/lib/python3.10/site-packages (from folium) (1.22.4)\n",
      "Requirement already satisfied: jinja2>=2.9 in /home/ec2-user/anaconda3/envs/python3/lib/python3.10/site-packages (from folium) (3.1.2)\n",
      "Requirement already satisfied: MarkupSafe>=2.0 in /home/ec2-user/anaconda3/envs/python3/lib/python3.10/site-packages (from jinja2>=2.9->folium) (2.1.1)\n",
      "Requirement already satisfied: idna<4,>=2.5 in /home/ec2-user/anaconda3/envs/python3/lib/python3.10/site-packages (from requests->folium) (3.4)\n",
      "Requirement already satisfied: charset-normalizer<3,>=2 in /home/ec2-user/anaconda3/envs/python3/lib/python3.10/site-packages (from requests->folium) (2.1.1)\n",
      "Requirement already satisfied: urllib3<1.27,>=1.21.1 in /home/ec2-user/anaconda3/envs/python3/lib/python3.10/site-packages (from requests->folium) (1.26.8)\n",
      "Requirement already satisfied: certifi>=2017.4.17 in /home/ec2-user/anaconda3/envs/python3/lib/python3.10/site-packages (from requests->folium) (2022.9.24)\n"
     ]
    }
   ],
   "source": [
    "!pip install folium\n"
   ]
  },
  {
   "cell_type": "code",
   "execution_count": 4,
   "id": "403e694f",
   "metadata": {},
   "outputs": [
    {
     "data": {
      "text/html": [
       "<div style=\"width:100%;\"><div style=\"position:relative;width:100%;height:0;padding-bottom:60%;\"><span style=\"color:#565656\">Make this Notebook Trusted to load map: File -> Trust Notebook</span><iframe srcdoc=\"&lt;!DOCTYPE html&gt;\n",
       "&lt;html&gt;\n",
       "&lt;head&gt;\n",
       "    \n",
       "    &lt;meta http-equiv=&quot;content-type&quot; content=&quot;text/html; charset=UTF-8&quot; /&gt;\n",
       "    \n",
       "        &lt;script&gt;\n",
       "            L_NO_TOUCH = false;\n",
       "            L_DISABLE_3D = false;\n",
       "        &lt;/script&gt;\n",
       "    \n",
       "    &lt;style&gt;html, body {width: 100%;height: 100%;margin: 0;padding: 0;}&lt;/style&gt;\n",
       "    &lt;style&gt;#map {position:absolute;top:0;bottom:0;right:0;left:0;}&lt;/style&gt;\n",
       "    &lt;script src=&quot;https://cdn.jsdelivr.net/npm/leaflet@1.9.3/dist/leaflet.js&quot;&gt;&lt;/script&gt;\n",
       "    &lt;script src=&quot;https://code.jquery.com/jquery-1.12.4.min.js&quot;&gt;&lt;/script&gt;\n",
       "    &lt;script src=&quot;https://cdn.jsdelivr.net/npm/bootstrap@5.2.2/dist/js/bootstrap.bundle.min.js&quot;&gt;&lt;/script&gt;\n",
       "    &lt;script src=&quot;https://cdnjs.cloudflare.com/ajax/libs/Leaflet.awesome-markers/2.0.2/leaflet.awesome-markers.js&quot;&gt;&lt;/script&gt;\n",
       "    &lt;link rel=&quot;stylesheet&quot; href=&quot;https://cdn.jsdelivr.net/npm/leaflet@1.9.3/dist/leaflet.css&quot;/&gt;\n",
       "    &lt;link rel=&quot;stylesheet&quot; href=&quot;https://cdn.jsdelivr.net/npm/bootstrap@5.2.2/dist/css/bootstrap.min.css&quot;/&gt;\n",
       "    &lt;link rel=&quot;stylesheet&quot; href=&quot;https://netdna.bootstrapcdn.com/bootstrap/3.0.0/css/bootstrap.min.css&quot;/&gt;\n",
       "    &lt;link rel=&quot;stylesheet&quot; href=&quot;https://cdn.jsdelivr.net/npm/@fortawesome/fontawesome-free@6.2.0/css/all.min.css&quot;/&gt;\n",
       "    &lt;link rel=&quot;stylesheet&quot; href=&quot;https://cdnjs.cloudflare.com/ajax/libs/Leaflet.awesome-markers/2.0.2/leaflet.awesome-markers.css&quot;/&gt;\n",
       "    &lt;link rel=&quot;stylesheet&quot; href=&quot;https://cdn.jsdelivr.net/gh/python-visualization/folium/folium/templates/leaflet.awesome.rotate.min.css&quot;/&gt;\n",
       "    \n",
       "            &lt;meta name=&quot;viewport&quot; content=&quot;width=device-width,\n",
       "                initial-scale=1.0, maximum-scale=1.0, user-scalable=no&quot; /&gt;\n",
       "            &lt;style&gt;\n",
       "                #map_8541922d302191084bd9e5915449079f {\n",
       "                    position: relative;\n",
       "                    width: 100.0%;\n",
       "                    height: 100.0%;\n",
       "                    left: 0.0%;\n",
       "                    top: 0.0%;\n",
       "                }\n",
       "                .leaflet-container { font-size: 1rem; }\n",
       "            &lt;/style&gt;\n",
       "        \n",
       "&lt;/head&gt;\n",
       "&lt;body&gt;\n",
       "    \n",
       "    \n",
       "            &lt;div class=&quot;folium-map&quot; id=&quot;map_8541922d302191084bd9e5915449079f&quot; &gt;&lt;/div&gt;\n",
       "        \n",
       "&lt;/body&gt;\n",
       "&lt;script&gt;\n",
       "    \n",
       "    \n",
       "            var map_8541922d302191084bd9e5915449079f = L.map(\n",
       "                &quot;map_8541922d302191084bd9e5915449079f&quot;,\n",
       "                {\n",
       "                    center: [45.5236, -122.675],\n",
       "                    crs: L.CRS.EPSG3857,\n",
       "                    zoom: 12,\n",
       "                    zoomControl: true,\n",
       "                    preferCanvas: false,\n",
       "                }\n",
       "            );\n",
       "\n",
       "            \n",
       "\n",
       "        \n",
       "    \n",
       "            var tile_layer_42defd0869f5f1b98ee0aa52df1deec7 = L.tileLayer(\n",
       "                &quot;https://{s}.tile.openstreetmap.org/{z}/{x}/{y}.png&quot;,\n",
       "                {&quot;attribution&quot;: &quot;Data by \\u0026copy; \\u003ca target=\\&quot;_blank\\&quot; href=\\&quot;http://openstreetmap.org\\&quot;\\u003eOpenStreetMap\\u003c/a\\u003e, under \\u003ca target=\\&quot;_blank\\&quot; href=\\&quot;http://www.openstreetmap.org/copyright\\&quot;\\u003eODbL\\u003c/a\\u003e.&quot;, &quot;detectRetina&quot;: false, &quot;maxNativeZoom&quot;: 18, &quot;maxZoom&quot;: 18, &quot;minZoom&quot;: 0, &quot;noWrap&quot;: false, &quot;opacity&quot;: 1, &quot;subdomains&quot;: &quot;abc&quot;, &quot;tms&quot;: false}\n",
       "            ).addTo(map_8541922d302191084bd9e5915449079f);\n",
       "        \n",
       "    \n",
       "            var marker_9282cc2c286eee4761154c1c2369531f = L.marker(\n",
       "                [45.5244, -122.6699],\n",
       "                {}\n",
       "            ).addTo(map_8541922d302191084bd9e5915449079f);\n",
       "        \n",
       "    \n",
       "        var popup_79aa4ab5ccdf10ba4fe61f4c22421448 = L.popup({&quot;maxWidth&quot;: &quot;100%&quot;});\n",
       "\n",
       "        \n",
       "            \n",
       "                var html_4b212a84a6fa0935c52fa38ee4cbdb36 = $(`&lt;div id=&quot;html_4b212a84a6fa0935c52fa38ee4cbdb36&quot; style=&quot;width: 100.0%; height: 100.0%;&quot;&gt;Portland, Oregon&lt;/div&gt;`)[0];\n",
       "                popup_79aa4ab5ccdf10ba4fe61f4c22421448.setContent(html_4b212a84a6fa0935c52fa38ee4cbdb36);\n",
       "            \n",
       "        \n",
       "\n",
       "        marker_9282cc2c286eee4761154c1c2369531f.bindPopup(popup_79aa4ab5ccdf10ba4fe61f4c22421448)\n",
       "        ;\n",
       "\n",
       "        \n",
       "    \n",
       "    \n",
       "            var marker_3463aef228c8fe237378290f4536b075 = L.marker(\n",
       "                [45.5234, -122.675],\n",
       "                {}\n",
       "            ).addTo(map_8541922d302191084bd9e5915449079f);\n",
       "        \n",
       "    \n",
       "        var popup_bbebd2f06640fd0c636d79d6b5b6f11e = L.popup({&quot;maxWidth&quot;: &quot;100%&quot;});\n",
       "\n",
       "        \n",
       "            \n",
       "                var html_2c7a02c61ba5d034e0401aececb8b96e = $(`&lt;div id=&quot;html_2c7a02c61ba5d034e0401aececb8b96e&quot; style=&quot;width: 100.0%; height: 100.0%;&quot;&gt;Voodoo Doughnuts&lt;/div&gt;`)[0];\n",
       "                popup_bbebd2f06640fd0c636d79d6b5b6f11e.setContent(html_2c7a02c61ba5d034e0401aececb8b96e);\n",
       "            \n",
       "        \n",
       "\n",
       "        marker_3463aef228c8fe237378290f4536b075.bindPopup(popup_bbebd2f06640fd0c636d79d6b5b6f11e)\n",
       "        ;\n",
       "\n",
       "        \n",
       "    \n",
       "&lt;/script&gt;\n",
       "&lt;/html&gt;\" style=\"position:absolute;width:100%;height:100%;left:0;top:0;border:none !important;\" allowfullscreen webkitallowfullscreen mozallowfullscreen></iframe></div></div>"
      ],
      "text/plain": [
       "<folium.folium.Map at 0x7ff43b7235b0>"
      ]
     },
     "execution_count": 4,
     "metadata": {},
     "output_type": "execute_result"
    }
   ],
   "source": [
    "import folium\n",
    "\n",
    "# create a map centered at [45.5236, -122.6750] with zoom level 12\n",
    "map = folium.Map(location=[45.5236, -122.6750], zoom_start=12)\n",
    "\n",
    "# add a marker for each data point on the map\n",
    "folium.Marker([45.5244, -122.6699], popup='Portland, Oregon').add_to(map)\n",
    "folium.Marker([45.5234, -122.6750], popup='Voodoo Doughnuts').add_to(map)\n",
    "\n",
    "# display the map\n",
    "map.save('example_map.html')\n",
    "map"
   ]
  },
  {
   "cell_type": "code",
   "execution_count": null,
   "id": "d821974c",
   "metadata": {},
   "outputs": [],
   "source": []
  }
 ],
 "metadata": {
  "kernelspec": {
   "display_name": "conda_python3",
   "language": "python",
   "name": "conda_python3"
  },
  "language_info": {
   "codemirror_mode": {
    "name": "ipython",
    "version": 3
   },
   "file_extension": ".py",
   "mimetype": "text/x-python",
   "name": "python",
   "nbconvert_exporter": "python",
   "pygments_lexer": "ipython3",
   "version": "3.10.6"
  }
 },
 "nbformat": 4,
 "nbformat_minor": 5
}
